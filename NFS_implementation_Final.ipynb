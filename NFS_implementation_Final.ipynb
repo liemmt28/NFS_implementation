{
 "cells": [
  {
   "cell_type": "code",
   "execution_count": 1,
   "metadata": {},
   "outputs": [],
   "source": [
    "def check_easy_case(number):\n",
    "    \"\"\"\n",
    "    Check for some easy cases.\n",
    "    \"\"\"\n",
    "    if is_prime(number):\n",
    "        return number\n",
    "\n",
    "    elif number.is_perfect_power():\n",
    "        return number.perfect_power()[0]\n",
    "    \n",
    "    elif number % 2 == 0:\n",
    "        return -1\n",
    "    \n",
    "    else:\n",
    "        return 1"
   ]
  },
  {
   "cell_type": "code",
   "execution_count": 2,
   "metadata": {},
   "outputs": [],
   "source": [
    "def get_degree(number):\n",
    "    \"\"\"\n",
    "    Return the degree of the polynomial we use\n",
    "    \"\"\"\n",
    "    digits_number = len(str(number))\n",
    "    if digits_number < 60:\n",
    "        return 3\n",
    "    \n",
    "    elif digits_number < 100:\n",
    "        return 4\n",
    "    \n",
    "    else:\n",
    "        return int((3*ln(number)/ln(ln(number)))^(1/3))"
   ]
  },
  {
   "cell_type": "code",
   "execution_count": 3,
   "metadata": {},
   "outputs": [],
   "source": [
    "def get_m(number, degree):\n",
    "    \"\"\"\n",
    "    Return number m that f(m) = 0 (mod n)\n",
    "    \"\"\"\n",
    "    return int(number^(1/degree))"
   ]
  },
  {
   "cell_type": "code",
   "execution_count": 4,
   "metadata": {},
   "outputs": [],
   "source": [
    "def get_polynomial(number, m):\n",
    "    \"\"\"\n",
    "    Return the degree d polynomial f that f(m) = 0 (mod n) \n",
    "    \"\"\"\n",
    "    polynomial_array = number.digits(m)\n",
    "    R.<x> = ZZ[]\n",
    "    polynomial = R(polynomial_array)\n",
    "\n",
    "    if polynomial.is_irreducible() == 0:\n",
    "        return 0 # skip the early exit\n",
    "    \n",
    "    return polynomial"
   ]
  },
  {
   "cell_type": "code",
   "execution_count": 5,
   "metadata": {},
   "outputs": [],
   "source": [
    "def get_bases_bound(number):\n",
    "    \"\"\"\n",
    "    Return the bases bound\n",
    "    \"\"\"\n",
    "    bound = (exp((8/9)^(1/3)*(log(number))^(1/3)*(log(log(number)))^(2/3)))\n",
    "    \n",
    "    return int(bound)"
   ]
  },
  {
   "cell_type": "code",
   "execution_count": 6,
   "metadata": {},
   "outputs": [],
   "source": [
    "def get_rational_base(bound):\n",
    "    \"\"\"\n",
    "    Return the set of all prime numbers less than the base bound\n",
    "    \"\"\"\n",
    "    return prime_range(bound)"
   ]
  },
  {
   "cell_type": "code",
   "execution_count": 7,
   "metadata": {},
   "outputs": [],
   "source": [
    "def get_algebraic_base(bound, polynomial):\n",
    "    \"\"\"\n",
    "    Return the set of tuples (p, r) satisfying the Theorem 2.18\n",
    "    \"\"\"\n",
    "    algebraic_base = []\n",
    "    \n",
    "    for p in prime_range(bound):\n",
    "        for r in polynomial.change_ring(GF(p)).roots(None, False):\n",
    "            algebraic_base.append((p, r.lift()))\n",
    "            \n",
    "    return algebraic_base"
   ]
  },
  {
   "cell_type": "code",
   "execution_count": 8,
   "metadata": {},
   "outputs": [],
   "source": [
    "def get_quad_char_base(number, bound, polynomial):\n",
    "    \"\"\"\n",
    "    Return the set of tuples (q, s) representing quadratic characters\n",
    "    \"\"\"\n",
    "    quad_char_base = []\n",
    "    quad_char_num = min(max(10, 3 * len(str(n))), 100)\n",
    "    q = next_prime(int(bound))\n",
    "    g = derivative(polynomial)\n",
    "    \n",
    "    while len(quad_char_base) < quad_char_num:\n",
    "        for s in polynomial.change_ring(GF(q)).roots(None, False):\n",
    "            if s not in g.change_ring(GF(q)).roots(None, False):\n",
    "                quad_char_base.append((q,s))\n",
    "                break\n",
    "        q = next_prime(q)\n",
    "        \n",
    "    return quad_char_base"
   ]
  },
  {
   "cell_type": "code",
   "execution_count": 9,
   "metadata": {},
   "outputs": [],
   "source": [
    "def get_norm(a, b, polynomial):\n",
    "    \"\"\"\n",
    "    Return the value that is norm of an algebraic integer a - b * alpha in QQ(alpha)\n",
    "    \"\"\"\n",
    "    return ((-b)^(polynomial.degree()) * polynomial.subs(x = (-a/b)))"
   ]
  },
  {
   "cell_type": "code",
   "execution_count": 10,
   "metadata": {},
   "outputs": [],
   "source": [
    "def check_smoothness(a, b, m, polynomial, rational_base, algebraic_base):\n",
    "    \"\"\"\n",
    "    Check for the B-smoothness of rational integer (a + b * m) and ideal (a + b * alpha)\n",
    "    \"\"\"\n",
    "    if a != 0 and gcd(a, b) == 1:\n",
    "        actual_num = (a + b * m) * get_norm(a, b, polynomial)\n",
    "        if actual_num == 0:\n",
    "            return 0\n",
    "\n",
    "        for num in rational_base:\n",
    "            while actual_num % num == 0:\n",
    "                actual_num = actual_num / num\n",
    "\n",
    "        for pair in algebraic_base:\n",
    "            while actual_num % pair[0]  == 0:\n",
    "                actual_num = actual_num / pair[0]\n",
    "                \n",
    "        if actual_num == 1 or actual_num == - 1:\n",
    "            return 1\n",
    "    return 0"
   ]
  },
  {
   "cell_type": "code",
   "execution_count": 11,
   "metadata": {},
   "outputs": [],
   "source": [
    "def get_rat_factor_power(number, prime):\n",
    "    \"\"\"\n",
    "    Return the biggest power that a rational integer divided by a prime\n",
    "    \"\"\"\n",
    "    count = 0\n",
    "    \n",
    "    while number % prime == 0:\n",
    "        number = number / prime\n",
    "        count += 1\n",
    "        \n",
    "    return count"
   ]
  },
  {
   "cell_type": "code",
   "execution_count": 12,
   "metadata": {},
   "outputs": [],
   "source": [
    "def get_alg_factor_power(a, b, p, r, polynomial):\n",
    "    \"\"\"\n",
    "    Return the biggest power that an algebraic integer or an ideal <a + b alpha> divided by an ideal <p, alpha - r>\n",
    "    \"\"\"\n",
    "    count = 0\n",
    "    check_num = get_norm(a, b, polynomial)\n",
    "    \n",
    "    if (a + b * r) % p == 0:\n",
    "        if b % p != 0:\n",
    "            while check_num % p == 0:\n",
    "                check_num = check_num / p\n",
    "                count += 1\n",
    "        return count\n",
    "    return count"
   ]
  },
  {
   "cell_type": "code",
   "execution_count": 13,
   "metadata": {},
   "outputs": [],
   "source": [
    "def get_smooth_pairs(number, V, m, polynomial, rational_base, algebraic_base):\n",
    "    \"\"\"\n",
    "    Sieving process: find more than V (a, b) pairs satisfying the smoothness in a reasonable sieving interval\n",
    "    \"\"\"\n",
    "    sieving_interval = max(500, ceil(log(number) * 500 / log(10)))\n",
    "    pairs_array = []\n",
    "    b = 1\n",
    "    \n",
    "    while b >= 1:\n",
    "        for a in range(-sieving_interval, sieving_interval + 1):\n",
    "            if check_smoothness(a, b, m, polynomial, rational_base, algebraic_base) == 1:\n",
    "                pairs_array.append((a, b))\n",
    "                if len(pairs_array) > V:\n",
    "                    return pairs_array\n",
    "        b += 1"
   ]
  },
  {
   "cell_type": "code",
   "execution_count": 14,
   "metadata": {},
   "outputs": [],
   "source": [
    "def get_matrix_A(pairs_array, m, rational_base, algebraic_base, quad_char_base, polynomial, V):\n",
    "    \"\"\"\n",
    "    Return the matrix A with rows are the exponential vectors representing each (a, b) pairs\n",
    "    \"\"\"\n",
    "    ex_vectors_array = [] \n",
    "    \n",
    "    for tuple in pairs_array:\n",
    "        check_rational_num = tuple[0] + tuple[1] * m \n",
    "        check_algebraic_num = get_norm(tuple[0], tuple[1], polynomial) \n",
    "        \n",
    "        ex_vector = [0 for x in range(V)]\n",
    "\n",
    "        if check_rational_num < 0:\n",
    "            ex_vector[0] = 1\n",
    "\n",
    "        for i in range(len(rational_base)):\n",
    "            ex_vector[1 + i] = get_rat_factor_power(check_rational_num, rational_base[i])\n",
    "\n",
    "        for j in range(len(algebraic_base)):\n",
    "            ex_vector[1 + len(rational_base) + j] = get_alg_factor_power(tuple[0], tuple[1], algebraic_base[j][0], algebraic_base[j][1], polynomial)\n",
    "\n",
    "        for k in range(len(quad_char_base)):\n",
    "            if legendre_symbol(tuple[0] + tuple[1] * quad_char_base[k][1], quad_char_base[k][0]) == -1:\n",
    "                ex_vector[1 + len(rational_base) + len(algebraic_base) + k] = 1\n",
    "                \n",
    "        ex_vectors_array.append(ex_vector)\n",
    "        matrix_A = matrix(GF(2), ex_vectors_array)\n",
    "        \n",
    "    return matrix_A"
   ]
  },
  {
   "cell_type": "code",
   "execution_count": 15,
   "metadata": {},
   "outputs": [],
   "source": [
    "def get_solutions_set(matrix_A):\n",
    "    \"\"\"\n",
    "    Return the solutions set of the equation x^T * A = 0 (mod 2)\n",
    "    \"\"\"\n",
    "    return matrix_A.left_kernel().basis_matrix()"
   ]
  },
  {
   "cell_type": "code",
   "execution_count": 16,
   "metadata": {},
   "outputs": [],
   "source": [
    "def get_set_S(solution, pairs_array):\n",
    "    \"\"\"\n",
    "    Return the set S of (a, b) pairs that satisfying the square conditions in ZZ/nZZ and ZZ[alpha]\n",
    "    \"\"\"\n",
    "    S = []\n",
    "    \n",
    "    for i in range(len(solution)):\n",
    "        if solution[i] == 1:\n",
    "            S.append(pairs_array[i])\n",
    "            \n",
    "    return S"
   ]
  },
  {
   "cell_type": "code",
   "execution_count": 17,
   "metadata": {},
   "outputs": [],
   "source": [
    "def get_rational_product(S, polynomial, m):\n",
    "    \"\"\"\n",
    "    Compute the rational product of (a + b * m)\n",
    "    \"\"\"\n",
    "    u_square = (derivative(polynomial).subs(m))^2\n",
    "    \n",
    "    for tuple in S:\n",
    "        u_square *= (tuple[0] + tuple[1] * m)\n",
    "        \n",
    "    return u_square"
   ]
  },
  {
   "cell_type": "code",
   "execution_count": 18,
   "metadata": {},
   "outputs": [],
   "source": [
    "def get_rational_sqrt(u_square, number):\n",
    "    \"\"\"\n",
    "    Compute rational squared root in ZZ/nZZ\n",
    "    \"\"\"\n",
    "    u = u_square.sqrt()\n",
    "    u = mod(u, number)\n",
    "    \n",
    "    return u"
   ]
  },
  {
   "cell_type": "code",
   "execution_count": 19,
   "metadata": {},
   "outputs": [],
   "source": [
    "def get_algebraic_product(S, polynomial):\n",
    "    \"\"\"\n",
    "    Compute the algebraic product of ideals in Z[alpha]\n",
    "    \"\"\"\n",
    "    Ka = PolynomialRing(ZZ, \"a\")\n",
    "    gamma = Ka(derivative(polynomial)^2)\n",
    "    \n",
    "    for tuple in S:\n",
    "        gamma *= Ka([tuple[0], 1 * tuple[1]])\n",
    "    gamma = gamma.mod(Ka(polynomial))\n",
    "    \n",
    "    return gamma"
   ]
  },
  {
   "cell_type": "code",
   "execution_count": 20,
   "metadata": {},
   "outputs": [],
   "source": [
    "def get_algebraic_sqrt(S, polynomial, gamma):\n",
    "    \"\"\"\n",
    "    Return the algebraic squared root in ZZ[alpha]\n",
    "    \"\"\"\n",
    "    K.<a> = NumberField(polynomial)\n",
    "    gamma = gamma(a)\n",
    "    \n",
    "    if gamma.is_square():\n",
    "        return gamma.sqrt()"
   ]
  },
  {
   "cell_type": "code",
   "execution_count": 21,
   "metadata": {},
   "outputs": [],
   "source": [
    "def get_v(beta, m, number):\n",
    "    \"\"\"\n",
    "    Return the number v using the sigma homomorphism\n",
    "    \"\"\"\n",
    "    v = beta.lift().subs(x = m)\n",
    "    v = v % number\n",
    "    \n",
    "    return v"
   ]
  },
  {
   "cell_type": "code",
   "execution_count": 22,
   "metadata": {},
   "outputs": [],
   "source": [
    "def get_factors(u, v, number):\n",
    "    \"\"\"\n",
    "    Return the factors\n",
    "    \"\"\"\n",
    "    result = (u - v).lift()\n",
    "    \n",
    "    return gcd(result, number)"
   ]
  },
  {
   "cell_type": "code",
   "execution_count": 23,
   "metadata": {},
   "outputs": [],
   "source": [
    "def factor_by_NFS(number):\n",
    "    print(\"Factoring: \", number)\n",
    "    results_set = []\n",
    "    if check_easy_case(number) == -1:\n",
    "        results_set.add(2)\n",
    "        while number % 2 == 0:\n",
    "            number = number / 2\n",
    "    elif check_easy_case(number) == 1:\n",
    "        degree = get_degree(number)\n",
    "        m = get_m(number, degree)\n",
    "        print(\"\\nm: \", m)\n",
    "        polynomial = get_polynomial(number, m)\n",
    "        print(\"\\nPolynomial using: \", polynomial)\n",
    "        bases_bound = get_bases_bound(number)\n",
    "        print(\"\\nBases bound: \", bases_bound)\n",
    "        rational_base = get_rational_base(bases_bound)\n",
    "        print(\"\\nRational base: \", rational_base)\n",
    "        print(\"\\nlength: \", len(rational_base))\n",
    "        algebraic_base = get_algebraic_base(bases_bound, polynomial)\n",
    "        print(\"\\nAlgebraic base: \", algebraic_base)\n",
    "        print(\"\\nlength: \", len(algebraic_base))\n",
    "        quad_char_base = get_quad_char_base(number, bases_bound, polynomial)\n",
    "        print(\"\\nQuadratic characters base: \", quad_char_base)\n",
    "        print(\"\\nlength: \", len(quad_char_base))\n",
    "        V = 1 + len(rational_base) + len(algebraic_base) + len(quad_char_base)\n",
    "        print(\"\\nNumber of pairs to find: \", V + 1)\n",
    "        pairs_array = get_smooth_pairs(number, V, m, polynomial, rational_base, algebraic_base)\n",
    "        print(\"\\n(a, b) pairs are B-smooth: \", pairs_array)\n",
    "        matrix_A = get_matrix_A(pairs_array, m, rational_base, algebraic_base, quad_char_base, polynomial, V)\n",
    "        print(\"\\nMatrix A:\")\n",
    "        print(matrix_A)\n",
    "        solutions_set = get_solutions_set(matrix_A)\n",
    "        print(\"\\nSolution set: \")\n",
    "        print(solutions_set)\n",
    "        for solution in solutions_set.rows():\n",
    "            S = get_set_S(solution, pairs_array)\n",
    "            u_square = get_rational_product(S, polynomial, m)\n",
    "            u = get_rational_sqrt(u_square, number)\n",
    "            gamma = get_algebraic_product(S, polynomial)\n",
    "            beta = get_algebraic_sqrt(S, polynomial, gamma)\n",
    "            v = get_v(beta, m, number)\n",
    "            factor_result = get_factors(u, v, number)\n",
    "            if 1 < factor_result < number and factor_result.is_prime():\n",
    "                if factor_result not in results_set:\n",
    "                    print(\"-\"*30)\n",
    "                    print(\"\\nA solution satisfied square conditions: \")\n",
    "                    print(solution)\n",
    "                    print(\"\\nThe set S: \")\n",
    "                    print(S)\n",
    "                    print(\"\\nu square: \", u_square)\n",
    "                    print(\"\\nu: \", u)\n",
    "                    print(\"\\nideal beta square: \", gamma)\n",
    "                    print(\"\\nideal beta: \", beta)\n",
    "                    print(\"\\n v: \", v)\n",
    "                    print(\"\\nPrime factor found: \", factor_result)\n",
    "                    results_set.append(factor_result)\n",
    "        print(\"-\"*30)\n",
    "    return results_set"
   ]
  }
 ],
 "metadata": {
  "kernelspec": {
   "display_name": "SageMath 9.3",
   "language": "sage",
   "name": "sagemath"
  },
  "language_info": {
   "codemirror_mode": {
    "name": "ipython",
    "version": 3
   },
   "file_extension": ".py",
   "mimetype": "text/x-python",
   "name": "python",
   "nbconvert_exporter": "python",
   "pygments_lexer": "ipython3",
   "version": "3.7.10"
  },
  "widgets": {
   "application/vnd.jupyter.widget-state+json": {
    "state": {},
    "version_major": 2,
    "version_minor": 0
   }
  }
 },
 "nbformat": 4,
 "nbformat_minor": 2
}
